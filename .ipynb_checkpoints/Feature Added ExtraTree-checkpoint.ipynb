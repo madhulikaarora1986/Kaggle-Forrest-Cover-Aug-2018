{
 "cells": [
  {
   "cell_type": "code",
   "execution_count": 39,
   "metadata": {
    "collapsed": false
   },
   "outputs": [],
   "source": [
    "# importing libraries\n",
    "import pandas as pd\n",
    "import numpy as np\n",
    "from sklearn.preprocessing import StandardScaler\n",
    "from sklearn.ensemble import ExtraTreesClassifier\n",
    "from sklearn.metrics import accuracy_score\n",
    "from sklearn.ensemble import RandomForestClassifier\n",
    "from sklearn.model_selection import cross_val_score\n",
    "%matplotlib inline"
   ]
  },
  {
   "cell_type": "code",
   "execution_count": 2,
   "metadata": {
    "collapsed": false
   },
   "outputs": [],
   "source": [
    "train = pd.read_csv('train.csv')\n",
    "test = pd.read_csv('test.csv')"
   ]
  },
  {
   "cell_type": "markdown",
   "metadata": {},
   "source": [
    "Feature Creation for train"
   ]
  },
  {
   "cell_type": "code",
   "execution_count": 3,
   "metadata": {
    "collapsed": false
   },
   "outputs": [],
   "source": [
    "train['Hillshade_mean'] = train['Hillshade_9am']+train['Hillshade_Noon']+train['Hillshade_3pm']\n",
    "train['slope_hyd'] = (train['Horizontal_Distance_To_Hydrology']**2+train['Vertical_Distance_To_Hydrology']**2)**0.5\n",
    "train.slope_hyd=train.slope_hyd.map(lambda x: 0 if np.isinf(x) else x) # remove infinite value if any\n",
    "train['log_elevation']= np.log(train.Elevation)\n",
    "train['Hillshade_9am_sq'] = train['Hillshade_9am']**2\n",
    "train['Hillshade_noon_sq'] = train['Hillshade_Noon']**2\n",
    "train['Hillshade_3pm_sq'] = train['Hillshade_3pm']**2\n",
    "\n",
    "train['cosine_slope'] = np.cos(train['Slope'])\n",
    "\n",
    "a = pd.cut(train['Aspect'],bins=[-1, 45, 90, 135, 180, 225, 270, 315, 360],\n",
    "           labels=['Aspect_1','Aspect_2','Aspect_3','Aspect_4','Aspect_5','Aspect_6','Aspect_7','Aspect_8'])\n",
    "b = pd.get_dummies(a)\n",
    "train.merge(b,right_index=True,left_index=True)\n",
    " \n",
    "\n",
    "train['interaction_9amnoon'] = train['Hillshade_9am']*train['Hillshade_Noon']\n",
    "train['interaction_noon3pm'] = train['Hillshade_3pm']*train['Hillshade_Noon']\n",
    "train['interaction_9am3pm'] = train['Hillshade_3pm']*train['Hillshade_9am']\n",
    "\n",
    "train['HF1'] = train['Horizontal_Distance_To_Hydrology']+train['Horizontal_Distance_To_Fire_Points']\n",
    "train['HF2'] = abs(train['Horizontal_Distance_To_Hydrology']-train['Horizontal_Distance_To_Fire_Points'])\n",
    "train['HR1'] = abs(train['Horizontal_Distance_To_Hydrology']+train['Horizontal_Distance_To_Roadways'])\n",
    "train['HR2'] = abs(train['Horizontal_Distance_To_Hydrology']-train['Horizontal_Distance_To_Roadways'])\n",
    "train['FR1'] = abs(train['Horizontal_Distance_To_Fire_Points']+train['Horizontal_Distance_To_Roadways'])\n",
    "train['FR2'] = abs(train['Horizontal_Distance_To_Fire_Points']-train['Horizontal_Distance_To_Roadways'])\n",
    "train['ele_vert'] = train.Elevation-train.Vertical_Distance_To_Hydrology\n",
    "\n",
    "train['slope_hyd'] = (train['Horizontal_Distance_To_Hydrology']**2+train['Vertical_Distance_To_Hydrology']**2)**0.5\n",
    "train.slope_hyd=train.slope_hyd.map(lambda x: 0 if np.isinf(x) else x) # remove infinite value if any\n",
    "\n",
    "#Mean distance to Amenities \n",
    "train['Mean_Amenities']=(train.Horizontal_Distance_To_Fire_Points + train.Horizontal_Distance_To_Hydrology + train.Horizontal_Distance_To_Roadways) / 3 \n",
    "#Mean Distance to Fire and Water \n",
    "train['Mean_Fire_Hyd']=(train.Horizontal_Distance_To_Fire_Points + train.Horizontal_Distance_To_Hydrology) / 2"
   ]
  },
  {
   "cell_type": "markdown",
   "metadata": {},
   "source": [
    "Feature Creation for test"
   ]
  },
  {
   "cell_type": "code",
   "execution_count": 4,
   "metadata": {
    "collapsed": false
   },
   "outputs": [],
   "source": [
    "test['Hillshade_mean'] = test['Hillshade_9am']+test['Hillshade_Noon']+test['Hillshade_3pm']\n",
    "test['slope_hyd'] = (test['Horizontal_Distance_To_Hydrology']**2+test['Vertical_Distance_To_Hydrology']**2)**0.5\n",
    "test.slope_hyd=test.slope_hyd.map(lambda x: 0 if np.isinf(x) else x) # remove infinite value if any\n",
    "test['log_elevation']= np.log(test.Elevation)\n",
    "test['Hillshade_9am_sq'] = test['Hillshade_9am']**2\n",
    "test['Hillshade_noon_sq'] = test['Hillshade_Noon']**2\n",
    "test['Hillshade_3pm_sq'] = test['Hillshade_3pm']**2\n",
    "\n",
    "test['cosine_slope'] = np.cos(test['Slope'])\n",
    "\n",
    "a = pd.cut(test['Aspect'],bins=[-1, 45, 90, 135, 180, 225, 270, 315, 360],\n",
    "           labels=['Aspect_1','Aspect_2','Aspect_3','Aspect_4','Aspect_5','Aspect_6','Aspect_7','Aspect_8'])\n",
    "b = pd.get_dummies(a)\n",
    "test.merge(b,right_index=True,left_index=True)\n",
    "\n",
    "test['interaction_9amnoon'] = test['Hillshade_9am']*test['Hillshade_Noon']\n",
    "test['interaction_noon3pm'] = test['Hillshade_3pm']*test['Hillshade_Noon']\n",
    "test['interaction_9am3pm'] = test['Hillshade_3pm']*test['Hillshade_9am']\n",
    "\n",
    "test['HF1'] = test['Horizontal_Distance_To_Hydrology']+test['Horizontal_Distance_To_Fire_Points']\n",
    "test['HF2'] = abs(test['Horizontal_Distance_To_Hydrology']-test['Horizontal_Distance_To_Fire_Points'])\n",
    "test['HR1'] = abs(test['Horizontal_Distance_To_Hydrology']+test['Horizontal_Distance_To_Roadways'])\n",
    "test['HR2'] = abs(test['Horizontal_Distance_To_Hydrology']-test['Horizontal_Distance_To_Roadways'])\n",
    "test['FR1'] = abs(test['Horizontal_Distance_To_Fire_Points']+test['Horizontal_Distance_To_Roadways'])\n",
    "test['FR2'] = abs(test['Horizontal_Distance_To_Fire_Points']-test['Horizontal_Distance_To_Roadways'])\n",
    "test['ele_vert'] = test.Elevation-test.Vertical_Distance_To_Hydrology\n",
    "\n",
    "test['slope_hyd'] = (test['Horizontal_Distance_To_Hydrology']**2+test['Vertical_Distance_To_Hydrology']**2)**0.5\n",
    "test.slope_hyd=test.slope_hyd.map(lambda x: 0 if np.isinf(x) else x) # remove infinite value if any\n",
    "\n",
    "#Mean distance to Amenities \n",
    "test['Mean_Amenities']=(test.Horizontal_Distance_To_Fire_Points + test.Horizontal_Distance_To_Hydrology + test.Horizontal_Distance_To_Roadways) / 3 \n",
    "#Mean Distance to Fire and Water \n",
    "test['Mean_Fire_Hyd']=(test.Horizontal_Distance_To_Fire_Points + test.Horizontal_Distance_To_Hydrology) / 2"
   ]
  },
  {
   "cell_type": "code",
   "execution_count": 5,
   "metadata": {
    "collapsed": true
   },
   "outputs": [],
   "source": [
    "X_train = train.drop(['Id','Cover_Type'],1)\n",
    "Y_train = train['Cover_Type']\n",
    "X_test = test.drop(['Id'],1)"
   ]
  },
  {
   "cell_type": "code",
   "execution_count": 6,
   "metadata": {
    "collapsed": true
   },
   "outputs": [],
   "source": [
    "scaler = StandardScaler()\n",
    "X_train_tf = pd.DataFrame(scaler.fit_transform(X_train),index=X_train.index, columns=X_train.columns)\n",
    "X_test_tf = pd.DataFrame(scaler.transform(X_test),index=X_test.index, columns=X_test.columns)"
   ]
  },
  {
   "cell_type": "code",
   "execution_count": 86,
   "metadata": {
    "collapsed": false
   },
   "outputs": [
    {
     "data": {
      "text/html": [
       "<div>\n",
       "<table border=\"1\" class=\"dataframe\">\n",
       "  <thead>\n",
       "    <tr style=\"text-align: right;\">\n",
       "      <th></th>\n",
       "      <th>Elevation</th>\n",
       "      <th>Aspect</th>\n",
       "      <th>Slope</th>\n",
       "      <th>Horizontal_Distance_To_Hydrology</th>\n",
       "      <th>Vertical_Distance_To_Hydrology</th>\n",
       "      <th>Horizontal_Distance_To_Roadways</th>\n",
       "      <th>Hillshade_9am</th>\n",
       "      <th>Hillshade_Noon</th>\n",
       "      <th>Hillshade_3pm</th>\n",
       "      <th>Horizontal_Distance_To_Fire_Points</th>\n",
       "      <th>...</th>\n",
       "      <th>interaction_9am3pm</th>\n",
       "      <th>HF1</th>\n",
       "      <th>HF2</th>\n",
       "      <th>HR1</th>\n",
       "      <th>HR2</th>\n",
       "      <th>FR1</th>\n",
       "      <th>FR2</th>\n",
       "      <th>ele_vert</th>\n",
       "      <th>Mean_Amenities</th>\n",
       "      <th>Mean_Fire_Hyd</th>\n",
       "    </tr>\n",
       "  </thead>\n",
       "  <tbody>\n",
       "    <tr>\n",
       "      <th>0</th>\n",
       "      <td>-0.367095</td>\n",
       "      <td>-0.959980</td>\n",
       "      <td>-1.597132</td>\n",
       "      <td>0.146639</td>\n",
       "      <td>-0.834074</td>\n",
       "      <td>-0.908681</td>\n",
       "      <td>0.271454</td>\n",
       "      <td>0.571653</td>\n",
       "      <td>0.281259</td>\n",
       "      <td>4.334805</td>\n",
       "      <td>...</td>\n",
       "      <td>0.690441</td>\n",
       "      <td>4.165194</td>\n",
       "      <td>4.390517</td>\n",
       "      <td>-0.848236</td>\n",
       "      <td>-0.959357</td>\n",
       "      <td>1.702247</td>\n",
       "      <td>5.505993</td>\n",
       "      <td>-0.246574</td>\n",
       "      <td>1.673476</td>\n",
       "      <td>4.165194</td>\n",
       "    </tr>\n",
       "    <tr>\n",
       "      <th>1</th>\n",
       "      <td>-0.381461</td>\n",
       "      <td>-0.914559</td>\n",
       "      <td>-1.715424</td>\n",
       "      <td>-0.072337</td>\n",
       "      <td>-0.932054</td>\n",
       "      <td>-0.999246</td>\n",
       "      <td>0.238732</td>\n",
       "      <td>0.703225</td>\n",
       "      <td>0.346627</td>\n",
       "      <td>4.285710</td>\n",
       "      <td>...</td>\n",
       "      <td>0.760204</td>\n",
       "      <td>4.078395</td>\n",
       "      <td>4.383090</td>\n",
       "      <td>-0.968254</td>\n",
       "      <td>-1.016605</td>\n",
       "      <td>1.619137</td>\n",
       "      <td>5.580595</td>\n",
       "      <td>-0.246574</td>\n",
       "      <td>1.571055</td>\n",
       "      <td>4.078395</td>\n",
       "    </tr>\n",
       "    <tr>\n",
       "      <th>2</th>\n",
       "      <td>0.130912</td>\n",
       "      <td>-0.160577</td>\n",
       "      <td>-0.887379</td>\n",
       "      <td>0.194243</td>\n",
       "      <td>0.227369</td>\n",
       "      <td>1.106379</td>\n",
       "      <td>0.696843</td>\n",
       "      <td>0.834797</td>\n",
       "      <td>-0.002005</td>\n",
       "      <td>4.191156</td>\n",
       "      <td>...</td>\n",
       "      <td>0.538108</td>\n",
       "      <td>4.036731</td>\n",
       "      <td>4.234547</td>\n",
       "      <td>1.089401</td>\n",
       "      <td>1.098462</td>\n",
       "      <td>2.902092</td>\n",
       "      <td>2.309390</td>\n",
       "      <td>0.098281</td>\n",
       "      <td>2.847589</td>\n",
       "      <td>4.036731</td>\n",
       "    </tr>\n",
       "    <tr>\n",
       "      <th>3</th>\n",
       "      <td>0.085421</td>\n",
       "      <td>-0.015231</td>\n",
       "      <td>0.177250</td>\n",
       "      <td>0.070474</td>\n",
       "      <td>1.092853</td>\n",
       "      <td>1.038455</td>\n",
       "      <td>0.827731</td>\n",
       "      <td>0.834797</td>\n",
       "      <td>-0.285268</td>\n",
       "      <td>4.272981</td>\n",
       "      <td>...</td>\n",
       "      <td>0.190113</td>\n",
       "      <td>4.092283</td>\n",
       "      <td>4.342240</td>\n",
       "      <td>1.005533</td>\n",
       "      <td>1.048950</td>\n",
       "      <td>2.902092</td>\n",
       "      <td>2.512851</td>\n",
       "      <td>-0.075352</td>\n",
       "      <td>2.835485</td>\n",
       "      <td>4.092283</td>\n",
       "    </tr>\n",
       "    <tr>\n",
       "      <th>4</th>\n",
       "      <td>-0.369489</td>\n",
       "      <td>-1.014485</td>\n",
       "      <td>-1.715424</td>\n",
       "      <td>-0.353198</td>\n",
       "      <td>-0.850404</td>\n",
       "      <td>-0.998491</td>\n",
       "      <td>0.238732</td>\n",
       "      <td>0.659368</td>\n",
       "      <td>0.324838</td>\n",
       "      <td>4.237524</td>\n",
       "      <td>...</td>\n",
       "      <td>0.730228</td>\n",
       "      <td>3.981180</td>\n",
       "      <td>4.388660</td>\n",
       "      <td>-1.010188</td>\n",
       "      <td>-0.970188</td>\n",
       "      <td>1.594299</td>\n",
       "      <td>5.519557</td>\n",
       "      <td>-0.246574</td>\n",
       "      <td>1.519379</td>\n",
       "      <td>3.981180</td>\n",
       "    </tr>\n",
       "    <tr>\n",
       "      <th>5</th>\n",
       "      <td>-0.407798</td>\n",
       "      <td>-0.224166</td>\n",
       "      <td>-1.242255</td>\n",
       "      <td>0.346574</td>\n",
       "      <td>-1.079023</td>\n",
       "      <td>-1.243015</td>\n",
       "      <td>0.565954</td>\n",
       "      <td>0.790940</td>\n",
       "      <td>0.106943</td>\n",
       "      <td>4.109330</td>\n",
       "      <td>...</td>\n",
       "      <td>0.621224</td>\n",
       "      <td>3.986388</td>\n",
       "      <td>4.121283</td>\n",
       "      <td>-1.138159</td>\n",
       "      <td>-0.974056</td>\n",
       "      <td>1.372194</td>\n",
       "      <td>5.726409</td>\n",
       "      <td>-0.251397</td>\n",
       "      <td>1.371335</td>\n",
       "      <td>3.986388</td>\n",
       "    </tr>\n",
       "    <tr>\n",
       "      <th>6</th>\n",
       "      <td>-0.343152</td>\n",
       "      <td>-1.014485</td>\n",
       "      <td>-1.123963</td>\n",
       "      <td>0.203764</td>\n",
       "      <td>-0.752425</td>\n",
       "      <td>-0.815853</td>\n",
       "      <td>0.304176</td>\n",
       "      <td>0.264652</td>\n",
       "      <td>0.063364</td>\n",
       "      <td>4.313894</td>\n",
       "      <td>...</td>\n",
       "      <td>0.408121</td>\n",
       "      <td>4.155646</td>\n",
       "      <td>4.358023</td>\n",
       "      <td>-0.750631</td>\n",
       "      <td>-0.873486</td>\n",
       "      <td>1.750011</td>\n",
       "      <td>5.340963</td>\n",
       "      <td>-0.234516</td>\n",
       "      <td>1.725617</td>\n",
       "      <td>4.155646</td>\n",
       "    </tr>\n",
       "    <tr>\n",
       "      <th>7</th>\n",
       "      <td>-0.345547</td>\n",
       "      <td>-0.978148</td>\n",
       "      <td>-1.478839</td>\n",
       "      <td>0.032391</td>\n",
       "      <td>-0.719765</td>\n",
       "      <td>-0.861135</td>\n",
       "      <td>0.304176</td>\n",
       "      <td>0.483939</td>\n",
       "      <td>0.194101</td>\n",
       "      <td>4.288437</td>\n",
       "      <td>...</td>\n",
       "      <td>0.589613</td>\n",
       "      <td>4.100095</td>\n",
       "      <td>4.365450</td>\n",
       "      <td>-0.820039</td>\n",
       "      <td>-0.892053</td>\n",
       "      <td>1.707979</td>\n",
       "      <td>5.377134</td>\n",
       "      <td>-0.241751</td>\n",
       "      <td>1.667889</td>\n",
       "      <td>4.100095</td>\n",
       "    </tr>\n",
       "    <tr>\n",
       "      <th>8</th>\n",
       "      <td>-0.316816</td>\n",
       "      <td>-1.014485</td>\n",
       "      <td>-0.887379</td>\n",
       "      <td>0.060953</td>\n",
       "      <td>0.080400</td>\n",
       "      <td>-0.790947</td>\n",
       "      <td>0.336898</td>\n",
       "      <td>0.089223</td>\n",
       "      <td>-0.045584</td>\n",
       "      <td>4.302984</td>\n",
       "      <td>...</td>\n",
       "      <td>0.275000</td>\n",
       "      <td>4.119190</td>\n",
       "      <td>4.374734</td>\n",
       "      <td>-0.748462</td>\n",
       "      <td>-0.824748</td>\n",
       "      <td>1.760042</td>\n",
       "      <td>5.290098</td>\n",
       "      <td>-0.330979</td>\n",
       "      <td>1.721427</td>\n",
       "      <td>4.119190</td>\n",
       "    </tr>\n",
       "    <tr>\n",
       "      <th>9</th>\n",
       "      <td>-0.328787</td>\n",
       "      <td>-0.887307</td>\n",
       "      <td>-0.769087</td>\n",
       "      <td>0.094276</td>\n",
       "      <td>-0.654445</td>\n",
       "      <td>-0.813589</td>\n",
       "      <td>0.500509</td>\n",
       "      <td>0.001508</td>\n",
       "      <td>-0.241689</td>\n",
       "      <td>4.290256</td>\n",
       "      <td>...</td>\n",
       "      <td>0.086014</td>\n",
       "      <td>4.113114</td>\n",
       "      <td>4.355238</td>\n",
       "      <td>-0.765091</td>\n",
       "      <td>-0.853372</td>\n",
       "      <td>1.739026</td>\n",
       "      <td>5.308183</td>\n",
       "      <td>-0.234516</td>\n",
       "      <td>1.704202</td>\n",
       "      <td>4.113114</td>\n",
       "    </tr>\n",
       "  </tbody>\n",
       "</table>\n",
       "<p>10 rows × 73 columns</p>\n",
       "</div>"
      ],
      "text/plain": [
       "   Elevation    Aspect     Slope  Horizontal_Distance_To_Hydrology  \\\n",
       "0  -0.367095 -0.959980 -1.597132                          0.146639   \n",
       "1  -0.381461 -0.914559 -1.715424                         -0.072337   \n",
       "2   0.130912 -0.160577 -0.887379                          0.194243   \n",
       "3   0.085421 -0.015231  0.177250                          0.070474   \n",
       "4  -0.369489 -1.014485 -1.715424                         -0.353198   \n",
       "5  -0.407798 -0.224166 -1.242255                          0.346574   \n",
       "6  -0.343152 -1.014485 -1.123963                          0.203764   \n",
       "7  -0.345547 -0.978148 -1.478839                          0.032391   \n",
       "8  -0.316816 -1.014485 -0.887379                          0.060953   \n",
       "9  -0.328787 -0.887307 -0.769087                          0.094276   \n",
       "\n",
       "   Vertical_Distance_To_Hydrology  Horizontal_Distance_To_Roadways  \\\n",
       "0                       -0.834074                        -0.908681   \n",
       "1                       -0.932054                        -0.999246   \n",
       "2                        0.227369                         1.106379   \n",
       "3                        1.092853                         1.038455   \n",
       "4                       -0.850404                        -0.998491   \n",
       "5                       -1.079023                        -1.243015   \n",
       "6                       -0.752425                        -0.815853   \n",
       "7                       -0.719765                        -0.861135   \n",
       "8                        0.080400                        -0.790947   \n",
       "9                       -0.654445                        -0.813589   \n",
       "\n",
       "   Hillshade_9am  Hillshade_Noon  Hillshade_3pm  \\\n",
       "0       0.271454        0.571653       0.281259   \n",
       "1       0.238732        0.703225       0.346627   \n",
       "2       0.696843        0.834797      -0.002005   \n",
       "3       0.827731        0.834797      -0.285268   \n",
       "4       0.238732        0.659368       0.324838   \n",
       "5       0.565954        0.790940       0.106943   \n",
       "6       0.304176        0.264652       0.063364   \n",
       "7       0.304176        0.483939       0.194101   \n",
       "8       0.336898        0.089223      -0.045584   \n",
       "9       0.500509        0.001508      -0.241689   \n",
       "\n",
       "   Horizontal_Distance_To_Fire_Points      ...        interaction_9am3pm  \\\n",
       "0                            4.334805      ...                  0.690441   \n",
       "1                            4.285710      ...                  0.760204   \n",
       "2                            4.191156      ...                  0.538108   \n",
       "3                            4.272981      ...                  0.190113   \n",
       "4                            4.237524      ...                  0.730228   \n",
       "5                            4.109330      ...                  0.621224   \n",
       "6                            4.313894      ...                  0.408121   \n",
       "7                            4.288437      ...                  0.589613   \n",
       "8                            4.302984      ...                  0.275000   \n",
       "9                            4.290256      ...                  0.086014   \n",
       "\n",
       "        HF1       HF2       HR1       HR2       FR1       FR2  ele_vert  \\\n",
       "0  4.165194  4.390517 -0.848236 -0.959357  1.702247  5.505993 -0.246574   \n",
       "1  4.078395  4.383090 -0.968254 -1.016605  1.619137  5.580595 -0.246574   \n",
       "2  4.036731  4.234547  1.089401  1.098462  2.902092  2.309390  0.098281   \n",
       "3  4.092283  4.342240  1.005533  1.048950  2.902092  2.512851 -0.075352   \n",
       "4  3.981180  4.388660 -1.010188 -0.970188  1.594299  5.519557 -0.246574   \n",
       "5  3.986388  4.121283 -1.138159 -0.974056  1.372194  5.726409 -0.251397   \n",
       "6  4.155646  4.358023 -0.750631 -0.873486  1.750011  5.340963 -0.234516   \n",
       "7  4.100095  4.365450 -0.820039 -0.892053  1.707979  5.377134 -0.241751   \n",
       "8  4.119190  4.374734 -0.748462 -0.824748  1.760042  5.290098 -0.330979   \n",
       "9  4.113114  4.355238 -0.765091 -0.853372  1.739026  5.308183 -0.234516   \n",
       "\n",
       "   Mean_Amenities  Mean_Fire_Hyd  \n",
       "0        1.673476       4.165194  \n",
       "1        1.571055       4.078395  \n",
       "2        2.847589       4.036731  \n",
       "3        2.835485       4.092283  \n",
       "4        1.519379       3.981180  \n",
       "5        1.371335       3.986388  \n",
       "6        1.725617       4.155646  \n",
       "7        1.667889       4.100095  \n",
       "8        1.721427       4.119190  \n",
       "9        1.704202       4.113114  \n",
       "\n",
       "[10 rows x 73 columns]"
      ]
     },
     "execution_count": 86,
     "metadata": {},
     "output_type": "execute_result"
    }
   ],
   "source": [
    "X_train_tf.head(10)"
   ]
  },
  {
   "cell_type": "markdown",
   "metadata": {},
   "source": [
    "## **************Start\n",
    "## ExtraTreeClassifier"
   ]
  },
  {
   "cell_type": "code",
   "execution_count": 12,
   "metadata": {
    "collapsed": false
   },
   "outputs": [
    {
     "data": {
      "text/plain": [
       "array([ 0.7853836 ,  0.76884921,  0.77843915,  0.81580688,  0.87334656])"
      ]
     },
     "execution_count": 12,
     "metadata": {},
     "output_type": "execute_result"
    }
   ],
   "source": [
    "m1 = ExtraTreesClassifier(n_estimators=500,\n",
    "                          #criterion='gini',\n",
    "                          criterion='entropy',\n",
    "                          max_features='log2',\n",
    "                          max_depth=31,\n",
    "                          min_samples_split=5,\n",
    "                         )\n",
    "result=cross_val_score(m1,X=X_train_tf,y=Y_train,scoring='accuracy',cv=5,n_jobs=4)\n",
    "result\n",
    "\n",
    "# criterion='gini'\n",
    "# array([ 0.78703704,  0.77149471,  0.77943122,  0.8098545 ,  0.87268519])\n",
    "# criterion='entropy'\n",
    "# array([ 0.7853836 ,  0.76884921,  0.77843915,  0.81580688,  0.87334656])"
   ]
  },
  {
   "cell_type": "markdown",
   "metadata": {},
   "source": [
    "## ExtraTreeClassifier min_samples_split"
   ]
  },
  {
   "cell_type": "code",
   "execution_count": 21,
   "metadata": {
    "collapsed": false
   },
   "outputs": [
    {
     "data": {
      "text/plain": [
       "array([ 0.79464286,  0.77480159,  0.7827381 ,  0.8207672 ,  0.88062169])"
      ]
     },
     "execution_count": 21,
     "metadata": {},
     "output_type": "execute_result"
    }
   ],
   "source": [
    "m1 = ExtraTreesClassifier(n_estimators=500,\n",
    "                          #criterion='gini',\n",
    "                          criterion='entropy',\n",
    "                          max_features='log2',\n",
    "                          max_depth=31,\n",
    "                          min_samples_split=3\n",
    "                         )\n",
    "result=cross_val_score(m1,X=X_train_tf,y=Y_train,scoring='accuracy',cv=5,n_jobs=4)\n",
    "result\n",
    "\n",
    "# min_samples_split=5\n",
    "#array([ 0.7853836 ,  0.76884921,  0.77843915,  0.81580688,  0.87334656])\n",
    "# min_samples_split=3\n",
    "# array([ 0.79464286,  0.77480159,  0.7827381 ,  0.8207672 ,  0.88062169])"
   ]
  },
  {
   "cell_type": "code",
   "execution_count": 37,
   "metadata": {
    "collapsed": false
   },
   "outputs": [
    {
     "data": {
      "text/plain": [
       "array([ 0.78240741,  0.75793651,  0.78108466,  0.81911376,  0.86805556])"
      ]
     },
     "execution_count": 37,
     "metadata": {},
     "output_type": "execute_result"
    }
   ],
   "source": [
    "m1 = ExtraTreesClassifier(n_estimators=500,\n",
    "                          #criterion='gini',\n",
    "                          criterion='entropy',\n",
    "                          max_features='log2',\n",
    "                          max_depth=31,\n",
    "                          min_samples_split=3,\n",
    "                          class_weight='balanced'\n",
    "                         )\n",
    "result=cross_val_score(m1,X=X_train_tf,y=Y_train,scoring='accuracy',cv=5,n_jobs=4)\n",
    "result"
   ]
  },
  {
   "cell_type": "code",
   "execution_count": 28,
   "metadata": {
    "collapsed": false
   },
   "outputs": [
    {
     "data": {
      "text/plain": [
       "array([ 0.79563492,  0.7744709 ,  0.7827381 ,  0.8207672 ,  0.87665344])"
      ]
     },
     "execution_count": 28,
     "metadata": {},
     "output_type": "execute_result"
    }
   ],
   "source": [
    "from sklearn.ensemble import AdaBoostClassifier\n",
    "\n",
    "m2 = AdaBoostClassifier(m1,\n",
    "                        n_estimators=500, \n",
    "                        learning_rate=0.01, \n",
    "                        algorithm='SAMME') \n",
    "\n",
    "result=cross_val_score(m2,X=X_train_tf,y=Y_train,scoring='accuracy',cv=5,n_jobs=4)\n",
    "result"
   ]
  },
  {
   "cell_type": "code",
   "execution_count": 16,
   "metadata": {
    "collapsed": true
   },
   "outputs": [],
   "source": [
    "ExtraTreesClassifier?"
   ]
  },
  {
   "cell_type": "code",
   "execution_count": 40,
   "metadata": {
    "collapsed": false
   },
   "outputs": [
    {
     "data": {
      "text/plain": [
       "array([ 0.78670635,  0.77546296,  0.78505291,  0.80886243,  0.86574074])"
      ]
     },
     "execution_count": 40,
     "metadata": {},
     "output_type": "execute_result"
    }
   ],
   "source": [
    "m2 = RandomForestClassifier(n_estimators=150,\n",
    "                            max_depth=50,\n",
    "                            max_features=20,\n",
    "                            criterion='entropy',\n",
    "                            n_jobs=4)\n",
    "\n",
    "m4 = AdaBoostClassifier(m2,\n",
    "                        n_estimators=500, \n",
    "                        learning_rate=0.01, \n",
    "                        algorithm='SAMME') \n",
    "\n",
    "result=cross_val_score(m4,X=X_train_tf,y=Y_train,scoring='accuracy',cv=5,n_jobs=4)\n",
    "result"
   ]
  },
  {
   "cell_type": "code",
   "execution_count": null,
   "metadata": {
    "collapsed": true
   },
   "outputs": [],
   "source": []
  }
 ],
 "metadata": {
  "anaconda-cloud": {},
  "kernelspec": {
   "display_name": "Python [Root]",
   "language": "python",
   "name": "Python [Root]"
  },
  "language_info": {
   "codemirror_mode": {
    "name": "ipython",
    "version": 3
   },
   "file_extension": ".py",
   "mimetype": "text/x-python",
   "name": "python",
   "nbconvert_exporter": "python",
   "pygments_lexer": "ipython3",
   "version": "3.5.2"
  }
 },
 "nbformat": 4,
 "nbformat_minor": 2
}
