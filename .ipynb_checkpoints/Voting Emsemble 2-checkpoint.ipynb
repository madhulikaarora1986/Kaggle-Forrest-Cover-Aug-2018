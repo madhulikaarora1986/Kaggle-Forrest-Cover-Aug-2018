{
 "cells": [
  {
   "cell_type": "code",
   "execution_count": null,
   "metadata": {
    "_uuid": "c6b8442a9be233e12e9e6a0054a0aa6c2f23d438",
    "collapsed": true
   },
   "outputs": [],
   "source": [
    "#New voting model"
   ]
  },
  {
   "cell_type": "code",
   "execution_count": null,
   "metadata": {
    "_uuid": "4645a6054313267699f2f01013ebca26dc645578",
    "collapsed": true
   },
   "outputs": [],
   "source": [
    "# importing libraries\n",
    "import pandas as pd\n",
    "import numpy as np\n",
    "import matplotlib.pyplot as plt\n",
    "from sklearn.preprocessing import StandardScaler\n",
    "from sklearn.metrics import accuracy_score\n",
    "from sklearn.model_selection import cross_val_score\n",
    "\n",
    "from sklearn.ensemble import ExtraTreesClassifier\n",
    "from sklearn.ensemble import AdaBoostClassifier\n",
    "from sklearn.ensemble import GradientBoostingClassifier\n",
    "from sklearn.ensemble import RandomForestClassifier\n",
    "from sklearn.ensemble import AdaBoostClassifier\n",
    "import lightgbm as lgb\n",
    "import xgboost as xgb\n",
    "\n",
    "%matplotlib inline"
   ]
  },
  {
   "cell_type": "code",
   "execution_count": null,
   "metadata": {
    "_uuid": "e37da125ed8baab41edd498ad7a9da317a02cb17",
    "collapsed": true
   },
   "outputs": [],
   "source": [
    "train = pd.read_csv('../input/train.csv')\n",
    "test = pd.read_csv('../input/test.csv')\n",
    "sample_submission = pd.read_csv('../input/sample_submission.csv')"
   ]
  },
  {
   "cell_type": "code",
   "execution_count": null,
   "metadata": {
    "_uuid": "e50fa480d69faf61421a7d55f603754e52cfe125",
    "collapsed": true
   },
   "outputs": [],
   "source": [
    "train['Hillshade_mean'] = train['Hillshade_9am']+train['Hillshade_Noon']+train['Hillshade_3pm']\n",
    "train['slope_hyd'] = (train['Horizontal_Distance_To_Hydrology']**2+train['Vertical_Distance_To_Hydrology']**2)**0.5\n",
    "train.slope_hyd=train.slope_hyd.map(lambda x: 0 if np.isinf(x) else x) # remove infinite value if any\n",
    "train['log_elevation']= np.log(train.Elevation)\n",
    "train['Hillshade_9am_sq'] = train['Hillshade_9am']**2\n",
    "train['Hillshade_noon_sq'] = train['Hillshade_Noon']**2\n",
    "train['Hillshade_3pm_sq'] = train['Hillshade_3pm']**2\n",
    "\n",
    "train['interaction_9amnoon'] = train['Hillshade_9am']*train['Hillshade_Noon']\n",
    "train['interaction_noon3pm'] = train['Hillshade_3pm']*train['Hillshade_Noon']\n",
    "train['interaction_9am3pm'] = train['Hillshade_3pm']*train['Hillshade_9am']"
   ]
  },
  {
   "cell_type": "code",
   "execution_count": null,
   "metadata": {
    "_uuid": "f647cc151c3380b1fe9bd6a16980f0aafb7add77",
    "collapsed": true
   },
   "outputs": [],
   "source": [
    "test['Hillshade_mean'] = test['Hillshade_9am']+test['Hillshade_Noon']+test['Hillshade_3pm']\n",
    "test['slope_hyd'] = (test['Horizontal_Distance_To_Hydrology']**2+test['Vertical_Distance_To_Hydrology']**2)**0.5\n",
    "test.slope_hyd=test.slope_hyd.map(lambda x: 0 if np.isinf(x) else x) # remove infinite value if any\n",
    "test['log_elevation']= np.log(test.Elevation)\n",
    "test['Hillshade_9am_sq'] = test['Hillshade_9am']**2\n",
    "test['Hillshade_noon_sq'] = test['Hillshade_Noon']**2\n",
    "test['Hillshade_3pm_sq'] = test['Hillshade_3pm']**2\n",
    "\n",
    "test['interaction_9amnoon'] = test['Hillshade_9am']*test['Hillshade_Noon']\n",
    "test['interaction_noon3pm'] = test['Hillshade_3pm']*test['Hillshade_Noon']\n",
    "test['interaction_9am3pm'] = test['Hillshade_3pm']*test['Hillshade_9am']"
   ]
  },
  {
   "cell_type": "code",
   "execution_count": null,
   "metadata": {
    "_uuid": "80326db629d1b3fbb351acb78ea0d0e3ab75753d",
    "collapsed": true
   },
   "outputs": [],
   "source": [
    "X_train = train.drop(['Id','Cover_Type'],1)\n",
    "Y_train = train['Cover_Type']\n",
    "X_test = test.drop(['Id'],1)"
   ]
  },
  {
   "cell_type": "code",
   "execution_count": null,
   "metadata": {
    "_uuid": "ce6d160cc1c334983e7645a61416d3331c401580",
    "collapsed": true
   },
   "outputs": [],
   "source": [
    "scaler = StandardScaler()\n",
    "X_train_tf = pd.DataFrame(scaler.fit_transform(X_train),index=X_train.index, columns=X_train.columns)\n",
    "X_test_tf = pd.DataFrame(scaler.transform(X_test),index=X_test.index, columns=X_test.columns)"
   ]
  },
  {
   "cell_type": "code",
   "execution_count": null,
   "metadata": {
    "_uuid": "fdee0fdd0bad4d8b0f277c2920d53362c7f8d3f9",
    "collapsed": true
   },
   "outputs": [],
   "source": [
    "m1 = AdaBoostClassifier(ExtraTreesClassifier(n_estimators=500),\n",
    "                        n_estimators=250, \n",
    "                        learning_rate=0.01, \n",
    "                        algorithm='SAMME')  \n",
    "m1.fit(X_train_tf, Y_train) \n",
    "\n",
    "\n",
    "m2 = RandomForestClassifier(n_estimators=150,\n",
    "                            max_depth=50,\n",
    "                            max_features=20,\n",
    "                            criterion='entropy',\n",
    "                            n_jobs=4)\n",
    "m2.fit(X_train_tf, Y_train)\n",
    "\n",
    "\n",
    "learning_rate=0.2\n",
    "n_estimators=500\n",
    "subsample=0.8\n",
    "min_samples_split=75\n",
    "max_features='log2'\n",
    "max_leaf_nodes=60\n",
    "m3 = GradientBoostingClassifier(learning_rate=learning_rate,\n",
    "                                 n_estimators=n_estimators,\n",
    "                                 subsample=subsample,\n",
    "                                 random_state=100,\n",
    "                                 min_samples_split=min_samples_split,\n",
    "                                 max_features=max_features,\n",
    "                                 max_leaf_nodes=max_leaf_nodes)\n",
    "m3.fit(X_train_tf, Y_train)\n",
    "\n",
    "\n",
    "# m4=xgb.XGBClassifier(objective = \"multi:softmax\",\n",
    "#                        eval_metric = \"merror\",\n",
    "#                        max_depth = 12,\n",
    "#                        eta = 0.0399,\n",
    "#                        gamma = 1.2393,\n",
    "#                        subsample = 0.7052,\n",
    "#                        colsample_bytree = 0.6296,\n",
    "#                        min_child_weight = 7,\n",
    "#                        colsample_bylevel = 1,\n",
    "#                        reg_lambda = 1, \n",
    "#                        reg_alpha = 0, \n",
    "#                        num_class = 7,\n",
    "#                        booster = \"gbtree\",\n",
    "#                        silent = 0)\n",
    "\n",
    "m4=xgb.XGBClassifier(objective = \"multi:softmax\",\n",
    "                       n_estimator=120,\n",
    "                       max_depth = 40,\n",
    "                       min_child_weight = 1,\n",
    "                       num_class = 7,\n",
    "                       booster = \"gbtree\")\n",
    "\n",
    "m4.fit(X_train_tf, Y_train)\n",
    "\n",
    "m5= lgb.LGBMClassifier(n_estimators=2000, \n",
    "                       max_depth=50,\n",
    "                       max_leaf_nodes=60)\n",
    "m5.fit(X_train_tf, Y_train)"
   ]
  },
  {
   "cell_type": "code",
   "execution_count": null,
   "metadata": {
    "_uuid": "00c4de0a67129d04de798eef47e56e958953ee36",
    "collapsed": true
   },
   "outputs": [],
   "source": [
    "preds = pd.DataFrame()\n",
    "preds[\"Model1\"] = m1.predict(X_test_tf)\n",
    "preds[\"Model2\"] = m2.predict(X_test_tf)\n",
    "preds[\"Model3\"] = m3.predict(X_test_tf)\n",
    "preds[\"Model4\"] = m4.predict(X_test_tf)\n",
    "preds[\"Model5\"] = m5.predict(X_test_tf)\n",
    "pred = preds.mode(axis=1)"
   ]
  },
  {
   "cell_type": "code",
   "execution_count": null,
   "metadata": {
    "_uuid": "de6dbd6fe9e48c0ff58d60f4799d92c71b2ff758",
    "collapsed": true
   },
   "outputs": [],
   "source": [
    "sub = pd.DataFrame({\"Id\": test['Id'],\"Cover_Type\": pred[0].astype('int').values})\n",
    "sub.to_csv(\"submission_voting_more_added.csv\", index=False)"
   ]
  }
 ],
 "metadata": {
  "anaconda-cloud": {},
  "kernelspec": {
   "display_name": "Python [Root]",
   "language": "python",
   "name": "Python [Root]"
  },
  "language_info": {
   "codemirror_mode": {
    "name": "ipython",
    "version": 3
   },
   "file_extension": ".py",
   "mimetype": "text/x-python",
   "name": "python",
   "nbconvert_exporter": "python",
   "pygments_lexer": "ipython3",
   "version": "3.5.2"
  }
 },
 "nbformat": 4,
 "nbformat_minor": 1
}
