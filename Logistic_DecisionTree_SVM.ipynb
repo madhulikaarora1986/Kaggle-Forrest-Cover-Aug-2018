{
 "cells": [
  {
   "cell_type": "code",
   "execution_count": 51,
   "metadata": {
    "collapsed": false
   },
   "outputs": [
    {
     "data": {
      "text/html": [
       "<div>\n",
       "<table border=\"1\" class=\"dataframe\">\n",
       "  <thead>\n",
       "    <tr style=\"text-align: right;\">\n",
       "      <th></th>\n",
       "      <th>Id</th>\n",
       "      <th>Elevation</th>\n",
       "      <th>Aspect</th>\n",
       "      <th>Slope</th>\n",
       "      <th>Horizontal_Distance_To_Hydrology</th>\n",
       "      <th>Vertical_Distance_To_Hydrology</th>\n",
       "      <th>Horizontal_Distance_To_Roadways</th>\n",
       "      <th>Hillshade_9am</th>\n",
       "      <th>Hillshade_Noon</th>\n",
       "      <th>Hillshade_3pm</th>\n",
       "      <th>...</th>\n",
       "      <th>Soil_Type32</th>\n",
       "      <th>Soil_Type33</th>\n",
       "      <th>Soil_Type34</th>\n",
       "      <th>Soil_Type35</th>\n",
       "      <th>Soil_Type36</th>\n",
       "      <th>Soil_Type37</th>\n",
       "      <th>Soil_Type38</th>\n",
       "      <th>Soil_Type39</th>\n",
       "      <th>Soil_Type40</th>\n",
       "      <th>Cover_Type</th>\n",
       "    </tr>\n",
       "  </thead>\n",
       "  <tbody>\n",
       "    <tr>\n",
       "      <th>0</th>\n",
       "      <td>1</td>\n",
       "      <td>2596</td>\n",
       "      <td>51</td>\n",
       "      <td>3</td>\n",
       "      <td>258</td>\n",
       "      <td>0</td>\n",
       "      <td>510</td>\n",
       "      <td>221</td>\n",
       "      <td>232</td>\n",
       "      <td>148</td>\n",
       "      <td>...</td>\n",
       "      <td>0</td>\n",
       "      <td>0</td>\n",
       "      <td>0</td>\n",
       "      <td>0</td>\n",
       "      <td>0</td>\n",
       "      <td>0</td>\n",
       "      <td>0</td>\n",
       "      <td>0</td>\n",
       "      <td>0</td>\n",
       "      <td>5</td>\n",
       "    </tr>\n",
       "    <tr>\n",
       "      <th>1</th>\n",
       "      <td>2</td>\n",
       "      <td>2590</td>\n",
       "      <td>56</td>\n",
       "      <td>2</td>\n",
       "      <td>212</td>\n",
       "      <td>-6</td>\n",
       "      <td>390</td>\n",
       "      <td>220</td>\n",
       "      <td>235</td>\n",
       "      <td>151</td>\n",
       "      <td>...</td>\n",
       "      <td>0</td>\n",
       "      <td>0</td>\n",
       "      <td>0</td>\n",
       "      <td>0</td>\n",
       "      <td>0</td>\n",
       "      <td>0</td>\n",
       "      <td>0</td>\n",
       "      <td>0</td>\n",
       "      <td>0</td>\n",
       "      <td>5</td>\n",
       "    </tr>\n",
       "    <tr>\n",
       "      <th>2</th>\n",
       "      <td>3</td>\n",
       "      <td>2804</td>\n",
       "      <td>139</td>\n",
       "      <td>9</td>\n",
       "      <td>268</td>\n",
       "      <td>65</td>\n",
       "      <td>3180</td>\n",
       "      <td>234</td>\n",
       "      <td>238</td>\n",
       "      <td>135</td>\n",
       "      <td>...</td>\n",
       "      <td>0</td>\n",
       "      <td>0</td>\n",
       "      <td>0</td>\n",
       "      <td>0</td>\n",
       "      <td>0</td>\n",
       "      <td>0</td>\n",
       "      <td>0</td>\n",
       "      <td>0</td>\n",
       "      <td>0</td>\n",
       "      <td>2</td>\n",
       "    </tr>\n",
       "    <tr>\n",
       "      <th>3</th>\n",
       "      <td>4</td>\n",
       "      <td>2785</td>\n",
       "      <td>155</td>\n",
       "      <td>18</td>\n",
       "      <td>242</td>\n",
       "      <td>118</td>\n",
       "      <td>3090</td>\n",
       "      <td>238</td>\n",
       "      <td>238</td>\n",
       "      <td>122</td>\n",
       "      <td>...</td>\n",
       "      <td>0</td>\n",
       "      <td>0</td>\n",
       "      <td>0</td>\n",
       "      <td>0</td>\n",
       "      <td>0</td>\n",
       "      <td>0</td>\n",
       "      <td>0</td>\n",
       "      <td>0</td>\n",
       "      <td>0</td>\n",
       "      <td>2</td>\n",
       "    </tr>\n",
       "    <tr>\n",
       "      <th>4</th>\n",
       "      <td>5</td>\n",
       "      <td>2595</td>\n",
       "      <td>45</td>\n",
       "      <td>2</td>\n",
       "      <td>153</td>\n",
       "      <td>-1</td>\n",
       "      <td>391</td>\n",
       "      <td>220</td>\n",
       "      <td>234</td>\n",
       "      <td>150</td>\n",
       "      <td>...</td>\n",
       "      <td>0</td>\n",
       "      <td>0</td>\n",
       "      <td>0</td>\n",
       "      <td>0</td>\n",
       "      <td>0</td>\n",
       "      <td>0</td>\n",
       "      <td>0</td>\n",
       "      <td>0</td>\n",
       "      <td>0</td>\n",
       "      <td>5</td>\n",
       "    </tr>\n",
       "  </tbody>\n",
       "</table>\n",
       "<p>5 rows × 56 columns</p>\n",
       "</div>"
      ],
      "text/plain": [
       "   Id  Elevation  Aspect  Slope  Horizontal_Distance_To_Hydrology  \\\n",
       "0   1       2596      51      3                               258   \n",
       "1   2       2590      56      2                               212   \n",
       "2   3       2804     139      9                               268   \n",
       "3   4       2785     155     18                               242   \n",
       "4   5       2595      45      2                               153   \n",
       "\n",
       "   Vertical_Distance_To_Hydrology  Horizontal_Distance_To_Roadways  \\\n",
       "0                               0                              510   \n",
       "1                              -6                              390   \n",
       "2                              65                             3180   \n",
       "3                             118                             3090   \n",
       "4                              -1                              391   \n",
       "\n",
       "   Hillshade_9am  Hillshade_Noon  Hillshade_3pm     ...      Soil_Type32  \\\n",
       "0            221             232            148     ...                0   \n",
       "1            220             235            151     ...                0   \n",
       "2            234             238            135     ...                0   \n",
       "3            238             238            122     ...                0   \n",
       "4            220             234            150     ...                0   \n",
       "\n",
       "   Soil_Type33  Soil_Type34  Soil_Type35  Soil_Type36  Soil_Type37  \\\n",
       "0            0            0            0            0            0   \n",
       "1            0            0            0            0            0   \n",
       "2            0            0            0            0            0   \n",
       "3            0            0            0            0            0   \n",
       "4            0            0            0            0            0   \n",
       "\n",
       "   Soil_Type38  Soil_Type39  Soil_Type40  Cover_Type  \n",
       "0            0            0            0           5  \n",
       "1            0            0            0           5  \n",
       "2            0            0            0           2  \n",
       "3            0            0            0           2  \n",
       "4            0            0            0           5  \n",
       "\n",
       "[5 rows x 56 columns]"
      ]
     },
     "execution_count": 51,
     "metadata": {},
     "output_type": "execute_result"
    }
   ],
   "source": [
    "import csv\n",
    "import numpy as np\n",
    "import pandas as pd\n",
    "from sklearn.linear_model import LogisticRegression\n",
    "import sklearn.metrics as skm\n",
    "from sklearn.svm import SVC\n",
    "from sklearn.preprocessing import StandardScaler\n",
    "from sklearn.pipeline import make_pipeline\n",
    "import graphviz\n",
    "\n",
    "# with open('train.csv') as csvData:\n",
    "#     temp=list(csv.DictReader(csvData))\n",
    "# train=pd.DataFrame(temp)\n",
    "\n",
    "train=pd.read_csv(\"train.csv\")\n",
    "test=pd.read_csv(\"test.csv\")\n",
    "test.head()\n",
    "train.head()"
   ]
  },
  {
   "cell_type": "code",
   "execution_count": 32,
   "metadata": {
    "collapsed": false
   },
   "outputs": [],
   "source": [
    "X_train=train.drop([\"Cover_Type\",\"Id\"], axis=1)\n",
    "Y_train=train[\"Cover_Type\"]\n",
    "X_test=test.drop(\"Id\", axis=1)\n",
    "\n",
    "LR=LogisticRegression(random_state=100,multi_class='ovr')\n",
    "LR.fit(X_train,Y_train)\n",
    "Y_train_predicted=LR.predict(X_train)"
   ]
  },
  {
   "cell_type": "code",
   "execution_count": 33,
   "metadata": {
    "collapsed": false
   },
   "outputs": [
    {
     "name": "stdout",
     "output_type": "stream",
     "text": [
      "Accuracy Score 0.675132275132\n",
      "F1 Score       0.670514477523\n"
     ]
    }
   ],
   "source": [
    "accuracy_score=skm.accuracy_score(Y_train,Y_train_predicted)\n",
    "print(\"Accuracy Score\",accuracy_score)\n",
    "\n",
    "f1_score=skm.f1_score(Y_train,Y_train_predicted,average='weighted')\n",
    "print(\"F1 Score      \",f1_score)"
   ]
  },
  {
   "cell_type": "code",
   "execution_count": 34,
   "metadata": {
    "collapsed": false
   },
   "outputs": [],
   "source": [
    "X_test=test.drop([\"Id\"],axis=1)\n",
    "Y_test_predicted=LR.predict(X_test)"
   ]
  },
  {
   "cell_type": "code",
   "execution_count": 35,
   "metadata": {
    "collapsed": false
   },
   "outputs": [
    {
     "data": {
      "text/plain": [
       "array([1, 2, 3, 4, 5, 6, 7])"
      ]
     },
     "execution_count": 35,
     "metadata": {},
     "output_type": "execute_result"
    }
   ],
   "source": [
    "np.unique(Y_test_predicted)"
   ]
  },
  {
   "cell_type": "code",
   "execution_count": 38,
   "metadata": {
    "collapsed": false
   },
   "outputs": [
    {
     "data": {
      "text/plain": [
       "array([[1357,  355,    6,    0,  155,   18,  269],\n",
       "       [ 472, 1044,   64,    0,  469,   85,   26],\n",
       "       [   0,    8, 1151,  309,   92,  598,    2],\n",
       "       [   0,    0,  148, 1909,    0,  103,    0],\n",
       "       [  48,  227,  183,    0, 1595,  103,    4],\n",
       "       [   2,   56,  446,  205,  215, 1235,    1],\n",
       "       [ 211,   16,    7,    0,    9,    0, 1917]])"
      ]
     },
     "execution_count": 38,
     "metadata": {},
     "output_type": "execute_result"
    }
   ],
   "source": [
    "skm.confusion_matrix(Y_train,Y_train_predicted)"
   ]
  },
  {
   "cell_type": "code",
   "execution_count": 21,
   "metadata": {
    "collapsed": false
   },
   "outputs": [],
   "source": [
    "m=zip(test[\"Id\"],Y_test_predicted)\n",
    "submission=pd.DataFrame(data=list(m),columns=[\"Id\",\"Cover_Type\"])\n",
    "submission.to_csv(\"submission.csv\",index=False)"
   ]
  },
  {
   "cell_type": "markdown",
   "metadata": {},
   "source": [
    "### Cross Validation"
   ]
  },
  {
   "cell_type": "markdown",
   "metadata": {},
   "source": [
    "#### Basic Logistic"
   ]
  },
  {
   "cell_type": "code",
   "execution_count": 22,
   "metadata": {
    "collapsed": true
   },
   "outputs": [],
   "source": [
    "from sklearn.model_selection import KFold,cross_val_score"
   ]
  },
  {
   "cell_type": "code",
   "execution_count": 23,
   "metadata": {
    "collapsed": false
   },
   "outputs": [],
   "source": [
    "local_k_fold=KFold(n_splits=5,shuffle=True,random_state=0)\n",
    "\n",
    "results=cross_val_score(LogisticRegression(),X_train,Y_train,cv=5,scoring=\"accuracy\")"
   ]
  },
  {
   "cell_type": "code",
   "execution_count": 24,
   "metadata": {
    "collapsed": false
   },
   "outputs": [
    {
     "name": "stdout",
     "output_type": "stream",
     "text": [
      "[ 0.54662698  0.56746032  0.62830688  0.63723545  0.67526455]\n",
      "0.610978835979\n"
     ]
    }
   ],
   "source": [
    "print(results)\n",
    "print(results.mean())"
   ]
  },
  {
   "cell_type": "markdown",
   "metadata": {},
   "source": [
    "### Multinomial"
   ]
  },
  {
   "cell_type": "markdown",
   "metadata": {},
   "source": [
    "#### Multinomial is not better than  One Vs Rest\n",
    "### Increasing the number Iteration doesn't improve the accuracy "
   ]
  },
  {
   "cell_type": "code",
   "execution_count": 43,
   "metadata": {
    "collapsed": false
   },
   "outputs": [
    {
     "name": "stdout",
     "output_type": "stream",
     "text": [
      "[ 0.49867725  0.42857143  0.40839947  0.43353175  0.47585979]\n",
      "0.449007936508\n"
     ]
    }
   ],
   "source": [
    "#results=cross_val_score(LogisticRegression(solver='sag'),X_train,Y_train,cv=5,scoring=\"accuracy\")\n",
    "#results=cross_val_score(LogisticRegression(solver='liblinear',max_iter=1000),X_train,Y_train,cv=5,scoring=\"accuracy\")\n",
    "#results=cross_val_score(LogisticRegression(solver='lbfgs',max_iter=1000),X_train,Y_train,cv=5,scoring=\"accuracy\")\n",
    "#results=cross_val_score(LogisticRegression(multi_class=\"multinomial\",solver='sag'),X_train,Y_train,cv=5,scoring=\"accuracy\")\n",
    "#results=cross_val_score(LogisticRegression(multi_class=\"multinomial\",solver='lbfgs'),X_train,Y_train,cv=5,scoring=\"accuracy\")\n",
    "\n",
    "print(results)\n",
    "print(results.mean())"
   ]
  },
  {
   "cell_type": "markdown",
   "metadata": {},
   "source": [
    "### Standardization/Logit/Pipeline"
   ]
  },
  {
   "cell_type": "code",
   "execution_count": 48,
   "metadata": {
    "collapsed": false
   },
   "outputs": [
    {
     "data": {
      "text/plain": [
       "array([ 0.56812169,  0.56051587,  0.64252646,  0.65376984,  0.6792328 ])"
      ]
     },
     "execution_count": 48,
     "metadata": {},
     "output_type": "execute_result"
    }
   ],
   "source": [
    "from sklearn.pipeline import make_pipeline\n",
    "from sklearn.preprocessing import StandardScaler\n",
    "from sklearn.linear_model import LogisticRegression\n",
    "\n",
    "standardizer = StandardScaler()\n",
    "logit = LogisticRegression(random_state=100,max_iter=1000)\n",
    "pipeline = make_pipeline(standardizer,logit)\n",
    "\n",
    "results=cross_val_score(pipeline,X_train,Y_train, cv=5, n_jobs=2, scoring=\"accuracy\")\n",
    "results"
   ]
  },
  {
   "cell_type": "code",
   "execution_count": 49,
   "metadata": {
    "collapsed": false
   },
   "outputs": [
    {
     "data": {
      "text/plain": [
       "0.62083333333333335"
      ]
     },
     "execution_count": 49,
     "metadata": {},
     "output_type": "execute_result"
    }
   ],
   "source": [
    "results.mean()"
   ]
  },
  {
   "cell_type": "markdown",
   "metadata": {},
   "source": [
    "### Support Vector Machine"
   ]
  },
  {
   "cell_type": "code",
   "execution_count": 52,
   "metadata": {
    "collapsed": false
   },
   "outputs": [],
   "source": [
    "standardizer = StandardScaler()\n",
    "svm = SVC(kernel='rbf')\n",
    "# [ 0.61111111  0.6167328   0.66898148  0.69246032  0.74041005]\n",
    "# 0.66593915343915344\n",
    "# svm = SVC(kernel='linear')\n",
    "# 0.563161375661 0.736111111111 0.657142857143\n",
    "# svm = SVC(kernel='poly')\n",
    "# 0.597883597884 0.714947089947 0.644113756614\n",
    "# svm = SVC(kernel='sigmoid')\n",
    "# 0.597883597884 0.714947089947 0.644113756614\n",
    "pipeline = make_pipeline(standardizer,svm)"
   ]
  },
  {
   "cell_type": "code",
   "execution_count": 53,
   "metadata": {
    "collapsed": false
   },
   "outputs": [
    {
     "name": "stdout",
     "output_type": "stream",
     "text": [
      "0.611111111111 0.74041005291 0.665939153439\n"
     ]
    }
   ],
   "source": [
    "results=cross_val_score(pipeline,X_train,Y_train, cv=5, n_jobs=2, scoring=\"accuracy\")\n",
    "print(results.min(),results.max(),results.mean())"
   ]
  },
  {
   "cell_type": "code",
   "execution_count": null,
   "metadata": {
    "collapsed": false
   },
   "outputs": [],
   "source": [
    "pipeline.fit(X_train,Y_train)\n",
    "Y_train_predicted=pipeline.predict(X_train)"
   ]
  },
  {
   "cell_type": "code",
   "execution_count": null,
   "metadata": {
    "collapsed": false
   },
   "outputs": [],
   "source": [
    "svm = SVC(kernel='rbf')\n",
    "svm.fit(X_train,Y_train)\n",
    "Y_test_predicted=pd.Series([0]*565892)\n",
    "#Y_test_predicted = svm.predict(X_test.iloc[0:100000])\n",
    "for i in range(1,565893,24604):\n",
    "#for i in range(1,101,5):\n",
    "    print(i)\n",
    "    Y_test_predicted.iloc[(i-1):i+24603]=pd.Series(svm.predict(X_test.iloc[(i-1):i+24603]))\n",
    "#len(Y_test_predicted)\n",
    "#Y_test_predicted\n",
    "Y_test_predicted.value_counts()"
   ]
  },
  {
   "cell_type": "code",
   "execution_count": null,
   "metadata": {
    "collapsed": false
   },
   "outputs": [],
   "source": [
    "svm = SVC(kernel='rbf')\n",
    "svm.fit(X_train,Y_train)\n",
    "Y_test_predicted=svm.predict(X_test)\n",
    "Y_test_predicted.value_counts()"
   ]
  },
  {
   "cell_type": "code",
   "execution_count": null,
   "metadata": {
    "collapsed": false
   },
   "outputs": [],
   "source": [
    "confusion_matrix(Y_train,Y_train_predicted)"
   ]
  },
  {
   "cell_type": "code",
   "execution_count": null,
   "metadata": {
    "collapsed": false
   },
   "outputs": [],
   "source": [
    "for i in range(1,21,4):\n",
    "    print(range((i-1),i+3))"
   ]
  },
  {
   "cell_type": "code",
   "execution_count": null,
   "metadata": {
    "collapsed": true
   },
   "outputs": [],
   "source": [
    "Y_test_predicted=pd.Series()"
   ]
  },
  {
   "cell_type": "code",
   "execution_count": null,
   "metadata": {
    "collapsed": true
   },
   "outputs": [],
   "source": [
    "svm = SVC(kernel='rbf')\n",
    "svm.fit(X_train,Y_train)\n",
    "Y_test_predicted=pd.Series([0]*565892)\n",
    "#Y_test_predicted = svm.predict(X_test.iloc[0:100000])\n",
    "for i in range(1,565893,24604):\n",
    "#for i in range(1,101,5):\n",
    "    Y_test_predicted.iloc[(i-1):i+24603]=pd.Series(svm.predict(X_test.iloc[(i-1):i+24603]))\n",
    "len(Y_test_predicted)\n",
    "Y_test_predicted"
   ]
  },
  {
   "cell_type": "markdown",
   "metadata": {},
   "source": [
    "# Decision Trees"
   ]
  },
  {
   "cell_type": "code",
   "execution_count": 76,
   "metadata": {
    "collapsed": false
   },
   "outputs": [
    {
     "data": {
      "text/plain": [
       "array([[2160,    0,    0,    0,    0,    0,    0],\n",
       "       [   0, 2160,    0,    0,    0,    0,    0],\n",
       "       [   0,    0, 2160,    0,    0,    0,    0],\n",
       "       [   0,    0,    0, 2160,    0,    0,    0],\n",
       "       [   0,    0,    0,    0, 2160,    0,    0],\n",
       "       [   0,    0,    0,    0,    0, 2160,    0],\n",
       "       [   0,    0,    0,    0,    0,    0, 2160]])"
      ]
     },
     "execution_count": 76,
     "metadata": {},
     "output_type": "execute_result"
    }
   ],
   "source": [
    "import numpy as np\n",
    "import pandas as pd\n",
    "import sklearn.metrics as skm\n",
    "from sklearn.preprocessing import StandardScaler\n",
    "from sklearn.pipeline import make_pipeline\n",
    "from sklearn.tree import DecisionTreeClassifier,export_graphviz\n",
    "from sklearn.model_selection import cross_val_score\n",
    "\n",
    "\n",
    "train=pd.read_csv(\"train.csv\")\n",
    "test=pd.read_csv(\"test.csv\")\n",
    "\n",
    "X_train=train.drop([\"Cover_Type\",\"Id\"], axis=1)\n",
    "Y_train=train[\"Cover_Type\"]\n",
    "X_test=test.drop(\"Id\", axis=1)\n",
    "\n",
    "dtc=DecisionTreeClassifier()\n",
    "dtc.fit(X_train,Y_train)\n",
    "Y_train_pred=dtc.predict(X_train)\n",
    "\n",
    "skm.confusion_matrix(Y_train,Y_train_pred)"
   ]
  },
  {
   "cell_type": "code",
   "execution_count": 77,
   "metadata": {
    "collapsed": false
   },
   "outputs": [
    {
     "name": "stdout",
     "output_type": "stream",
     "text": [
      "[ 0.69246032  0.69742063  0.6875      0.67956349  0.77149471]\n"
     ]
    },
    {
     "data": {
      "text/plain": [
       "0.7056878306878307"
      ]
     },
     "execution_count": 77,
     "metadata": {},
     "output_type": "execute_result"
    }
   ],
   "source": [
    "results=cross_val_score(DecisionTreeClassifier(),X_train,Y_train,cv=5)\n",
    "print(results)\n",
    "results.mean()"
   ]
  },
  {
   "cell_type": "code",
   "execution_count": 78,
   "metadata": {
    "collapsed": false
   },
   "outputs": [
    {
     "data": {
      "text/plain": [
       "1.0"
      ]
     },
     "execution_count": 78,
     "metadata": {},
     "output_type": "execute_result"
    }
   ],
   "source": [
    "skm.accuracy_score(Y_train,Y_train_pred)"
   ]
  },
  {
   "cell_type": "markdown",
   "metadata": {},
   "source": [
    "# Random Forrest"
   ]
  },
  {
   "cell_type": "code",
   "execution_count": 80,
   "metadata": {
    "collapsed": false
   },
   "outputs": [
    {
     "data": {
      "text/plain": [
       "array([[2148,    7,    0,    0,    0,    0,    5],\n",
       "       [  20, 2131,    2,    0,    3,    4,    0],\n",
       "       [   0,    2, 2148,    2,    0,    8,    0],\n",
       "       [   0,    0,    3, 2157,    0,    0,    0],\n",
       "       [   0,    3,    0,    0, 2155,    2,    0],\n",
       "       [   0,    0,   13,    9,    1, 2137,    0],\n",
       "       [   0,    0,    0,    0,    0,    0, 2160]])"
      ]
     },
     "execution_count": 80,
     "metadata": {},
     "output_type": "execute_result"
    }
   ],
   "source": [
    "import numpy as np\n",
    "import pandas as pd\n",
    "import sklearn.metrics as skm\n",
    "from sklearn.preprocessing import StandardScaler\n",
    "from sklearn.pipeline import make_pipeline\n",
    "from sklearn.ensemble import RandomForestClassifier\n",
    "from sklearn.model_selection import cross_val_score\n",
    "\n",
    "\n",
    "train=pd.read_csv(\"train.csv\")\n",
    "test=pd.read_csv(\"test.csv\")\n",
    "\n",
    "X_train=train.drop([\"Cover_Type\",\"Id\"], axis=1)\n",
    "Y_train=train[\"Cover_Type\"]\n",
    "X_test=test.drop(\"Id\", axis=1)\n",
    "\n",
    "rfc=RandomForestClassifier(n_estimators=10,n_jobs=3)\n",
    "rfc.fit(X_train,Y_train)\n",
    "Y_train_pred=rfc.predict(X_train)\n",
    "\n",
    "skm.confusion_matrix(Y_train,Y_train_pred)"
   ]
  },
  {
   "cell_type": "code",
   "execution_count": 81,
   "metadata": {
    "collapsed": false
   },
   "outputs": [
    {
     "data": {
      "text/plain": [
       "0.99444444444444446"
      ]
     },
     "execution_count": 81,
     "metadata": {},
     "output_type": "execute_result"
    }
   ],
   "source": [
    "skm.accuracy_score(Y_train,Y_train_pred)"
   ]
  },
  {
   "cell_type": "code",
   "execution_count": 89,
   "metadata": {
    "collapsed": false
   },
   "outputs": [
    {
     "name": "stdout",
     "output_type": "stream",
     "text": [
      "[ 0.75595238  0.74239418  0.76554233  0.79794974  0.84623016]\n"
     ]
    },
    {
     "data": {
      "text/plain": [
       "0.78161375661375654"
      ]
     },
     "execution_count": 89,
     "metadata": {},
     "output_type": "execute_result"
    }
   ],
   "source": [
    "rfc=RandomForestClassifier(n_estimators=60,n_jobs=3)\n",
    "results=cross_val_score(rfc,X_train,Y_train,cv=5)\n",
    "print(results)\n",
    "results.mean()"
   ]
  }
 ],
 "metadata": {
  "anaconda-cloud": {},
  "kernelspec": {
   "display_name": "Python [Root]",
   "language": "python",
   "name": "Python [Root]"
  },
  "language_info": {
   "codemirror_mode": {
    "name": "ipython",
    "version": 3
   },
   "file_extension": ".py",
   "mimetype": "text/x-python",
   "name": "python",
   "nbconvert_exporter": "python",
   "pygments_lexer": "ipython3",
   "version": "3.5.2"
  }
 },
 "nbformat": 4,
 "nbformat_minor": 0
}
